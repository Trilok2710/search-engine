{
 "cells": [
  {
   "cell_type": "code",
   "execution_count": null,
   "metadata": {},
   "outputs": [],
   "source": [
    "from selenium import webdriver\n",
    "import pymongo\n",
    "\n",
    "client = pymongo.MongoClient(\"mongodb://localhost:27017/\")\n",
    "db = client[\"dsa-search\"]\n",
    "collection = db[\"problems\"]\n",
    "\n",
    "# Set up Selenium WebDriver\n",
    "driver = webdriver.Chrome()\n",
    "\n",
    "# Scrape data from coding websites (e.g., LeetCode, GeeksforGeeks)\n",
    "urls = [\"https://leetcode.com/problems/\", \"https://www.geeksforgeeks.org/data-structures/\"]\n",
    "\n",
    "for url in urls:\n",
    "    driver.get(url)\n",
    "    \n",
    "    # Extract problem details\n",
    "    titles = driver.find_elements_by_css_selector('problem-title-selector')\n",
    "    descriptions = driver.find_elements_by_css_selector('problem-description-selector')\n",
    "    difficulties = driver.find_elements_by_css_selector('problem-difficulty-selector')\n",
    "\n",
    "    for title, description, difficulty in zip(titles, descriptions, difficulties):\n",
    "        problem = {\n",
    "            \"title\": title.text,\n",
    "            \"description\": description.text,\n",
    "            \"difficulty\": difficulty.text,\n",
    "            \"tags\": []  # Add tags if necessary\n",
    "        }\n",
    "        collection.insert_one(problem)\n",
    "\n",
    "driver.quit()\n"
   ]
  }
 ],
 "metadata": {
  "language_info": {
   "name": "python"
  }
 },
 "nbformat": 4,
 "nbformat_minor": 2
}
